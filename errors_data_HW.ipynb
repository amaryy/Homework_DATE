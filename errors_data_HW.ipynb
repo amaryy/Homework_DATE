{
 "cells": [
  {
   "cell_type": "code",
   "execution_count": 2,
   "metadata": {},
   "outputs": [],
   "source": [
    "import datetime"
   ]
  },
  {
   "cell_type": "code",
   "execution_count": 3,
   "metadata": {},
   "outputs": [],
   "source": [
    "from datetime import datetime as DT"
   ]
  },
  {
   "cell_type": "code",
   "execution_count": 4,
   "metadata": {},
   "outputs": [],
   "source": [
    "from datetime import timedelta"
   ]
  },
  {
   "cell_type": "code",
   "execution_count": 27,
   "metadata": {},
   "outputs": [],
   "source": [
    "#Задание 1\n",
    "def date_range(start_date, end_date):\n",
    "    start_date = input('Введите начальную дату в формате ГГГГММДД ')\n",
    "    end_date = DT.strptime((input('Введите конечную дату в формате ГГГГММДД  ')),'%Y%m%d')\n",
    "    days_between = DT.strptime(start_date, '%Y%m%d')\n",
    "    while days_between < end_date:\n",
    "        days_between += timedelta(days=1)\n",
    "        if days_between == end_date:\n",
    "            break\n",
    "        print(days_between.strftime('%Y-%m-%d'))\n",
    "        \n",
    "    "
   ]
  },
  {
   "cell_type": "code",
   "execution_count": 29,
   "metadata": {},
   "outputs": [
    {
     "name": "stdout",
     "output_type": "stream",
     "text": [
      "Введите начальную дату в формате ГГГГММДД 20180701\n",
      "Введите конечную дату в формате ГГГГММДД  20180703\n",
      "2018-07-02\n"
     ]
    }
   ],
   "source": [
    "#Задание 1\n",
    "date_range(start_date, end_date)"
   ]
  },
  {
   "cell_type": "code",
   "execution_count": null,
   "metadata": {},
   "outputs": [],
   "source": [
    "#Дополните функцию из первого задания проверкой на корректность дат. В случае неверного формата или если start_date > end_date должен возвращаться пустой список."
   ]
  },
  {
   "cell_type": "code",
   "execution_count": 99,
   "metadata": {},
   "outputs": [],
   "source": [
    "def date_range1():\n",
    "    list_ = []\n",
    "    try:\n",
    "        start_date = DT.strptime((input('Введите начальную дату в формате ГГГГММДД  ')),'%Y%m%d') \n",
    "        end_date = DT.strptime((input('Введите конечную дату в формате ГГГГММДД  ')),'%Y%m%d')\n",
    "        days_between = start_date\n",
    "        if start_date > end_date:\n",
    "            print('Ошибка! Начальная дата не может быть больше конечной даты')\n",
    "            return (list_)\n",
    "        else:\n",
    "            while days_between < end_date:\n",
    "                days_between += timedelta(days=1)\n",
    "                if days_between == end_date:\n",
    "                    break\n",
    "                print(days_between.strftime('%Y-%m-%d'))\n",
    "    except ValueError:\n",
    "        print(\"Неверный формат даты!\")\n",
    "        return(list_)"
   ]
  },
  {
   "cell_type": "code",
   "execution_count": 102,
   "metadata": {},
   "outputs": [
    {
     "name": "stdout",
     "output_type": "stream",
     "text": [
      "Введите начальную дату в формате ГГГГММДД  20180229\n",
      "Неверный формат даты!\n"
     ]
    },
    {
     "data": {
      "text/plain": [
       "[]"
      ]
     },
     "execution_count": 102,
     "metadata": {},
     "output_type": "execute_result"
    }
   ],
   "source": [
    "date_range1()"
   ]
  },
  {
   "cell_type": "code",
   "execution_count": null,
   "metadata": {},
   "outputs": [],
   "source": [
    "#Задание 3\n",
    "Дан поток дат в формате YYYY-MM-DD, в которых встречаются некорректные значения:\n",
    "stream = [‘2018-04-02’, ‘2018-02-29’, ‘2018-19-02’]\n",
    "Напишите функцию, которая проверяет эти даты на корректность. Т. е. для каждой даты возвращает True (дата корректна) или False (некорректная дата).\n"
   ]
  },
  {
   "cell_type": "code",
   "execution_count": 157,
   "metadata": {},
   "outputs": [],
   "source": [
    "stream = ['2018-04-02', '2018-02-29', '2018-19-02', '2020-01-01']"
   ]
  },
  {
   "cell_type": "code",
   "execution_count": 158,
   "metadata": {},
   "outputs": [],
   "source": [
    "def date_correct(list_):\n",
    "    correct_date = None\n",
    "    for date in list_:\n",
    "        try:\n",
    "            a = DT.strptime(date,'%Y-%m-%d') \n",
    "            correct_date = True\n",
    "            print(date, correct_date,', Дата корректна')\n",
    "        except ValueError:\n",
    "            correct_date = False \n",
    "            print(date, correct_date, ', Дата некорректна')"
   ]
  },
  {
   "cell_type": "code",
   "execution_count": 159,
   "metadata": {},
   "outputs": [
    {
     "name": "stdout",
     "output_type": "stream",
     "text": [
      "2018-04-02 True , Дата корректна\n",
      "2018-02-29 False , Дата некорректна\n",
      "2018-19-02 False , Дата некорректна\n",
      "2020-01-01 True , Дата корректна\n"
     ]
    }
   ],
   "source": [
    "date_correct(stream)"
   ]
  },
  {
   "cell_type": "code",
   "execution_count": null,
   "metadata": {},
   "outputs": [],
   "source": [
    "#Задание 4\n",
    "DEFAULT_USER_COUNT = 3\n",
    "def delete_and_return_last_user(region, default_list=[‘A100’, ‘A101’, ‘A102’]):\n",
    "\"\"“\n",
    "Удаляет из списка default_list последнего пользователя\n",
    "и возвращает ID нового последнего пользователя.\n",
    "”\"\"\n",
    "element_to_delete = default_list[-1]\n",
    "default_list.remove(element_to_delete)\n",
    "return default_list[DEFAULT_USER_COUNT-2]"
   ]
  },
  {
   "cell_type": "code",
   "execution_count": 269,
   "metadata": {},
   "outputs": [],
   "source": [
    "#Условие задачи\n",
    "DEFAULT_USER_COUNT = 3\n",
    "def delete_and_return_last_user(region, default_list=['A100', 'A101', 'A102']):\n",
    "    element_to_delete = default_list[-1]\n",
    "    default_list.remove(element_to_delete)\n",
    "    return default_list[DEFAULT_USER_COUNT-2]  \n",
    "    "
   ]
  },
  {
   "cell_type": "code",
   "execution_count": 270,
   "metadata": {},
   "outputs": [
    {
     "data": {
      "text/plain": [
       "'A101'"
      ]
     },
     "execution_count": 270,
     "metadata": {},
     "output_type": "execute_result"
    }
   ],
   "source": [
    "delete_and_return_last_user(1)"
   ]
  },
  {
   "cell_type": "code",
   "execution_count": null,
   "metadata": {},
   "outputs": [],
   "source": [
    "Ответы на вопросы :\n",
    "    1) Ошибка List index возникает, т.к. пытается получить доступ к индексу списка, которого уже не существует в этом списке.\n",
    "    2) Функция работает не корректно, т.к. пытаемся вернуть значение, ссылаясь на изначальное количество ID (которое меняется после первого удаления)\n",
    "    3) верное решение -см. ниже"
   ]
  },
  {
   "cell_type": "code",
   "execution_count": 272,
   "metadata": {},
   "outputs": [],
   "source": [
    "#верный вариант для задачи 4\n",
    "DEFAULT_USER_COUNT = 3\n",
    "def delete_and_return_last_user1(region, default_list=['A100', 'A101', 'A102']):\n",
    "    element_to_delete = default_list[-1]\n",
    "    default_list.remove(element_to_delete)\n",
    "    #return default_list[DEFAULT_USER_COUNT-2]  \n",
    "    return default_list[-1]"
   ]
  },
  {
   "cell_type": "code",
   "execution_count": 274,
   "metadata": {},
   "outputs": [
    {
     "data": {
      "text/plain": [
       "'A100'"
      ]
     },
     "execution_count": 274,
     "metadata": {},
     "output_type": "execute_result"
    }
   ],
   "source": [
    "delete_and_return_last_user1(1)"
   ]
  },
  {
   "cell_type": "code",
   "execution_count": null,
   "metadata": {},
   "outputs": [],
   "source": []
  }
 ],
 "metadata": {
  "kernelspec": {
   "display_name": "Python 3",
   "language": "python",
   "name": "python3"
  },
  "language_info": {
   "codemirror_mode": {
    "name": "ipython",
    "version": 3
   },
   "file_extension": ".py",
   "mimetype": "text/x-python",
   "name": "python",
   "nbconvert_exporter": "python",
   "pygments_lexer": "ipython3",
   "version": "3.7.4"
  }
 },
 "nbformat": 4,
 "nbformat_minor": 2
}
